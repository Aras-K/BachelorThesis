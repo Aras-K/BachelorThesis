version https://git-lfs.github.com/spec/v1
oid sha256:3a9f0eb887d19c2271f1dd42c1cc698bec99116bf43ee256273c720667be400a
size 389761
