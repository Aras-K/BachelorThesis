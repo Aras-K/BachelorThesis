version https://git-lfs.github.com/spec/v1
oid sha256:1295bd5317052c245effa90c0cbe2308db8bd7dd1f74b4a49f359c58d81a8c87
size 392163
