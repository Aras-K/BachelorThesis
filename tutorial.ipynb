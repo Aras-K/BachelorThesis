version https://git-lfs.github.com/spec/v1
oid sha256:70b74981d9bbd13f5831aa7bfbf19643940678ebd03e607c111fd08e240a1c7b
size 57230
