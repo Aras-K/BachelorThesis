version https://git-lfs.github.com/spec/v1
oid sha256:08582c0842895d3d01c9c6d2556151c378cfc425d10eb5125fa886582a42e9e5
size 56522
