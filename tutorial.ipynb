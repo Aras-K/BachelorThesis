version https://git-lfs.github.com/spec/v1
oid sha256:333e0f04e04fa9029872f5140350777d54bc4c8b1d75be9b3b3adcb6fe7d2acb
size 58617
