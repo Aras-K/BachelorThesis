version https://git-lfs.github.com/spec/v1
oid sha256:16873d05aaeac4f0e3ad182a265f898c51a8eb9861482e79ab70cfda2a5853d4
size 390894
