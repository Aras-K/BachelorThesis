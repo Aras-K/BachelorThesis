version https://git-lfs.github.com/spec/v1
oid sha256:594b29602c6534305de9c3a1607be0036ac745299b10d463a736faa7510bb130
size 390887
