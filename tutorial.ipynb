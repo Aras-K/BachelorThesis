version https://git-lfs.github.com/spec/v1
oid sha256:b0abe264cf7aec6ab66f3f883df8a7955480d81d13460852c3a24cea590e5548
size 58539
