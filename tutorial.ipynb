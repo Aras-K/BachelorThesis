version https://git-lfs.github.com/spec/v1
oid sha256:95b3380810a08756acbaa98c161bbbe2bdcfdd01491d95f8c5bd6da6c36b31c7
size 48608
