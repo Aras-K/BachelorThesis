version https://git-lfs.github.com/spec/v1
oid sha256:0602b998242b4693eebee53caa89390fee2e6d8c584ad905dda28c39b84f3fa6
size 48721
