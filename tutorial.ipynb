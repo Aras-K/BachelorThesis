version https://git-lfs.github.com/spec/v1
oid sha256:24b28ec4073eefcc3ccae1776fc8ce51a921cc39c50fc7b56a0c9f5a4006a6db
size 393335
