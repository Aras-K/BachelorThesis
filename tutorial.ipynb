version https://git-lfs.github.com/spec/v1
oid sha256:669cd1f8c56cd847bf87d3c2ec4bad1d57d88997a43e6e1d5a3dd508374ef8e2
size 389711
