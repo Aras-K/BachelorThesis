version https://git-lfs.github.com/spec/v1
oid sha256:8246bc3a3b9358f190342cf46bfa944f0282c9829b78d1185de54724eef42765
size 58600
