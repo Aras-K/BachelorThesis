version https://git-lfs.github.com/spec/v1
oid sha256:24bd65e6c053aedbd43d8bcf2e4bfdc9e4fd1fc47cbe288d50810b48113f5020
size 394028
