version https://git-lfs.github.com/spec/v1
oid sha256:a7bb85573f6d40ac38bf4510c9c97b245792a698b2c6330c5c3af0589f48aad2
size 389709
