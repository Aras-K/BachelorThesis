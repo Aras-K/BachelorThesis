version https://git-lfs.github.com/spec/v1
oid sha256:ed10c48aa8915dd1053288d30c472c380b9efcc32c35f993c96551ef99878df1
size 393806
