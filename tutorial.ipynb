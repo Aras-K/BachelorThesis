version https://git-lfs.github.com/spec/v1
oid sha256:9fc393c713be3cd66c44e1339ecdb2a5194a2bf1771c5d15ff79f5c93940091d
size 392336
