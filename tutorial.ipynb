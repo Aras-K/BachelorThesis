version https://git-lfs.github.com/spec/v1
oid sha256:591bc789e1408e9caa4b65c72a6ec0f20b2fb8376e579e39f510c760c903ecbc
size 57002
