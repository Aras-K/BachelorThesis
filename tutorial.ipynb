version https://git-lfs.github.com/spec/v1
oid sha256:bf3f3905eebd29fe9b1402a4c37a462fc43db00eef24ab1a3aad703cd71f35f1
size 393971
