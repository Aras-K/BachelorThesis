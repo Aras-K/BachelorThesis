version https://git-lfs.github.com/spec/v1
oid sha256:957f0d8a04e40136ca7b113bc34fda964ffbe64d992a908fc59effc2bc20c373
size 58019
