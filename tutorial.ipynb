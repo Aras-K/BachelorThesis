version https://git-lfs.github.com/spec/v1
oid sha256:fb6b067ab4bc5157ac37493d3b2249ed90854cc7df5dc888c2119ae2ba7f8f9b
size 56491
