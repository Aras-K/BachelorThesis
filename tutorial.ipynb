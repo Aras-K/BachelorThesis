version https://git-lfs.github.com/spec/v1
oid sha256:428d004405a485d99cc58cb03f281a12ee7693fd44a7e125f883ed10f4297ae5
size 393364
