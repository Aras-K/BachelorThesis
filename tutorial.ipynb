version https://git-lfs.github.com/spec/v1
oid sha256:5da7bb1657c59fc3de7c5f7dce04d7be83746ea0b104a6a0cb0c3412773ffd24
size 389695
