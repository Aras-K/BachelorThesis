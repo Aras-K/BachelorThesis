version https://git-lfs.github.com/spec/v1
oid sha256:ccee15bcbc2b2fc453ee7da6710ce7bed7f5147191eebcd850fe8657fcd2526f
size 393330
