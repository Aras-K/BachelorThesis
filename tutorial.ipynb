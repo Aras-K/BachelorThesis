version https://git-lfs.github.com/spec/v1
oid sha256:889a7115d5604e9c8187c1606d509be0a0da5bc5c17607e32a257f5af4b44549
size 393402
