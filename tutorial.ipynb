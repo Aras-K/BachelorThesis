version https://git-lfs.github.com/spec/v1
oid sha256:7534919429857852474d74750eb0323cc561a45f6ff47b4afe06bba0ab3925a4
size 48580
