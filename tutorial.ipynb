version https://git-lfs.github.com/spec/v1
oid sha256:8250f73bb0ab68b97f92925987321cf5a8c8b7cb1618ff77472d69b114504c3c
size 390469
